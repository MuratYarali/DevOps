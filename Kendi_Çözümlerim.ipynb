{
  "nbformat": 4,
  "nbformat_minor": 0,
  "metadata": {
    "colab": {
      "name": "Kendi Çözümlerim.ipynb",
      "provenance": [],
      "collapsed_sections": [],
      "authorship_tag": "ABX9TyPfSTLzw+wj1PPqUKU5DGvh",
      "include_colab_link": true
    },
    "kernelspec": {
      "name": "python3",
      "display_name": "Python 3"
    },
    "language_info": {
      "name": "python"
    }
  },
  "cells": [
    {
      "cell_type": "markdown",
      "metadata": {
        "id": "view-in-github",
        "colab_type": "text"
      },
      "source": [
        "<a href=\"https://colab.research.google.com/github/MuratYarali/Python-Assignment/blob/main/Kendi_%C3%87%C3%B6z%C3%BCmlerim.ipynb\" target=\"_parent\"><img src=\"https://colab.research.google.com/assets/colab-badge.svg\" alt=\"Open In Colab\"/></a>"
      ]
    },
    {
      "cell_type": "code",
      "metadata": {
        "colab": {
          "base_uri": "https://localhost:8080/"
        },
        "id": "It9aiNqncQfC",
        "outputId": "fcd1241b-393a-441f-d914-76ad57cff992"
      },
      "source": [
        "isim=input(\"İsim Giriniz:\")\n",
        "sayi=int(input(\"Kaç defa yazılsın:\"))\n",
        "print((f\"{isim} \") *sayi)"
      ],
      "execution_count": null,
      "outputs": [
        {
          "output_type": "stream",
          "name": "stdout",
          "text": [
            "İsim Giriniz:murat\n",
            "Kaç defa yazılsın:5\n",
            "murat murat murat murat murat \n"
          ]
        }
      ]
    },
    {
      "cell_type": "code",
      "metadata": {
        "colab": {
          "base_uri": "https://localhost:8080/"
        },
        "id": "BbkAsdu5e-mq",
        "outputId": "d0aa6610-613e-439f-acc0-b4bf507e8206"
      },
      "source": [
        "sayi=int(input(\"Kaç defa yazılsın:\"))\n",
        "kare = sayi ** 2\n",
        "küp = sayi ** 3\n",
        "print(f\"{sayi} sayısının karesi {kare}, küpü {küp}\")"
      ],
      "execution_count": null,
      "outputs": [
        {
          "output_type": "stream",
          "name": "stdout",
          "text": [
            "Kaç defa yazılsın:56565\n",
            "56565 sayısının karesi 3199599225, küpü 180985330162125\n"
          ]
        }
      ]
    },
    {
      "cell_type": "code",
      "metadata": {
        "colab": {
          "base_uri": "https://localhost:8080/"
        },
        "id": "AeodovRmfqWR",
        "outputId": "c3611d95-e1b7-4799-bf68-8a874535c88a"
      },
      "source": [
        "sayi1=int(input(\"Birinci Açıyı Giriniz:\"))\n",
        "sayi2=int(input(\"İkinci Açıyı Giriniz:\"))\n",
        "sayi3=int(input(\"üçüncü Açıyı Giriniz:\"))\n",
        "\n",
        "if (sayi1+sayi2+sayi3) == 180:\n",
        "  print(\"Bu açılar üçgen oluşturur\")\n",
        "else:\n",
        "  print(\"Bu açılar üçgen oluşturmaz\")"
      ],
      "execution_count": null,
      "outputs": [
        {
          "output_type": "stream",
          "name": "stdout",
          "text": [
            "Birinci Açıyı Giriniz:90\n",
            "İkinci Açıyı Giriniz:50\n",
            "üçüncü Açıyı Giriniz:40\n",
            "Bu açılar üçgen oluşturur\n"
          ]
        }
      ]
    },
    {
      "cell_type": "code",
      "metadata": {
        "colab": {
          "base_uri": "https://localhost:8080/"
        },
        "id": "0S-vmlcHgUrn",
        "outputId": "15b1f3d4-8e22-49dd-960a-67098030d7a2"
      },
      "source": [
        "num1 = float(input(\"First price: \"))\n",
        "num2 = float(input(\"Second price: \"))\n",
        "sum = num1 + num2\n",
        "\n",
        "if sum <= 200:\n",
        "  print(\"ödenecek miktar= {} TL'dir\".format(int(sum)))\n",
        "else:\n",
        "  print(\"ödenecek miktar, indirimden sonra= {} TL'dir\".format(int(sum*.75)))"
      ],
      "execution_count": null,
      "outputs": [
        {
          "output_type": "stream",
          "name": "stdout",
          "text": [
            "First price: 150\n",
            "Second price: 150\n",
            "ödenecek miktar, indirimden sonra= 225 TL'dir\n"
          ]
        }
      ]
    },
    {
      "cell_type": "code",
      "metadata": {
        "colab": {
          "base_uri": "https://localhost:8080/"
        },
        "id": "IRCb5V8rhYwm",
        "outputId": "21705ace-3712-4800-df31-64c6d3cf7189"
      },
      "source": [
        "lan = input(\"Do you know foreign language? (Yes/No): \")\n",
        "office = input(\"Can you use Microsoft Office?(Yes/No): \")\n",
        "\n",
        "if lan.lower() == \"yes\" and office.lower() == \"yes\":\n",
        "  print(\"işe alındınız\")\n",
        "else:\n",
        "  print(\"işe alınmadınız\")"
      ],
      "execution_count": null,
      "outputs": [
        {
          "output_type": "stream",
          "name": "stdout",
          "text": [
            "Do you know foreign language? (Yes/No): no\n",
            "Can you use Microsoft Office?(Yes/No): no\n",
            "işe alınmadınız\n"
          ]
        }
      ]
    },
    {
      "cell_type": "code",
      "metadata": {
        "colab": {
          "base_uri": "https://localhost:8080/"
        },
        "id": "m2_5q-vZmIKq",
        "outputId": "73c1cef6-dfd7-4dd1-d95a-1719c8618ffe"
      },
      "source": [
        "dil = input(\"her hangibir yabancı bir dil biliyormusun ? \" \"(Evet/Hayır)\")\n",
        "ofis = input(\"ofis proğramları biliyormusun ? \" \"(Evet/Hayır)\")\n",
        "\n",
        "if dil and ofis == \"evet\" \"evet\":\n",
        "  print(\"İşe alındır :) \")\n",
        "else :\n",
        "  print(\"İşe alınamadınız ... \")"
      ],
      "execution_count": null,
      "outputs": [
        {
          "output_type": "stream",
          "name": "stdout",
          "text": [
            "her hangibir yabancı bir dil biliyormusun ? (Evet/Hayır)evet\n",
            "ofis proğramları biliyormusun ? (Evet/Hayır)evet\n",
            "İşe alınamadınız ... \n"
          ]
        }
      ]
    },
    {
      "cell_type": "code",
      "metadata": {
        "colab": {
          "base_uri": "https://localhost:8080/"
        },
        "id": "koQ17hG6mlyt",
        "outputId": "aba3c182-798f-4244-b85b-7a22ee4dbd84"
      },
      "source": [
        "name = input(\"Name and Surname: \")\n",
        "english = input(\"Do you know English? (Yes/No): \")\n",
        "french = input(\"Do you know French? (Yes/No): \")\n",
        "age = int(input(\"What is your age: \"))\n",
        "\n",
        "if english.lower() or french.lower() == \"yes\" and age <= 40:\n",
        "  print(f\"{name} Başarılı!\")\n",
        "else:\n",
        "  print(f\"{name} Başarısız!\")"
      ],
      "execution_count": null,
      "outputs": [
        {
          "output_type": "stream",
          "name": "stdout",
          "text": [
            "Name and Surname: murat yaralı\n",
            "Do you know English? (Yes/No): yes\n",
            "Do you know French? (Yes/No): no\n",
            "What is your age: 34\n",
            "murat yaralı Başarılı!\n"
          ]
        }
      ]
    },
    {
      "cell_type": "code",
      "metadata": {
        "colab": {
          "base_uri": "https://localhost:8080/"
        },
        "id": "8De8gHQdo7pq",
        "outputId": "99225811-e2b5-46ae-d198-c788faf50d43"
      },
      "source": [
        "num1 = int(input(\"First number: \"))\n",
        "num2 = int(input(\"Second number: \"))\n",
        "ope = input(\"Enter an operator: \")\n",
        "\n",
        "if ope == \"+\":\n",
        "  print(int(num1 + num2))\n",
        "elif ope == \"-\":\n",
        "  print(int(num1 - num2))\n",
        "elif ope == \"*\":\n",
        "  print(int(num1 * num2))\n",
        "elif ope == \"/\":\n",
        "  print(int(num1 / num2))\n",
        "else:\n",
        "  print(\"Yanlış işlem girdiniz\")"
      ],
      "execution_count": null,
      "outputs": [
        {
          "output_type": "stream",
          "name": "stdout",
          "text": [
            "First number: 12\n",
            "Second number: 12\n",
            "Enter an operator: -\n",
            "0\n"
          ]
        }
      ]
    },
    {
      "cell_type": "code",
      "metadata": {
        "colab": {
          "base_uri": "https://localhost:8080/"
        },
        "id": "gfpdySHL6PMI",
        "outputId": "5b331fc7-5d18-404a-ef2f-4b36203f2f02"
      },
      "source": [
        "num1 = int(input(\"Starter number: \"))\n",
        "num2 = int(input(\"Second number: \"))\n",
        "num3 = int(input(\"Amount of Increase: \"))\n",
        "\n",
        "for i in range(num1, num2, num3):\n",
        "  print(i)"
      ],
      "execution_count": null,
      "outputs": [
        {
          "output_type": "stream",
          "name": "stdout",
          "text": [
            "Starter number: 3\n",
            "Second number: 100\n",
            "Amount of Increase: 3\n",
            "3\n",
            "6\n",
            "9\n",
            "12\n",
            "15\n",
            "18\n",
            "21\n",
            "24\n",
            "27\n",
            "30\n",
            "33\n",
            "36\n",
            "39\n",
            "42\n",
            "45\n",
            "48\n",
            "51\n",
            "54\n",
            "57\n",
            "60\n",
            "63\n",
            "66\n",
            "69\n",
            "72\n",
            "75\n",
            "78\n",
            "81\n",
            "84\n",
            "87\n",
            "90\n",
            "93\n",
            "96\n",
            "99\n"
          ]
        }
      ]
    },
    {
      "cell_type": "code",
      "metadata": {
        "colab": {
          "base_uri": "https://localhost:8080/"
        },
        "id": "KH5mMRbOEAfg",
        "outputId": "033a82d8-edef-4b4b-e036-4bea71b3ee40"
      },
      "source": [
        "num1 = int(input(\"Starter number: \"))\n",
        "\n",
        "for i in range(num1, 0, -1):\n",
        "  print(i)"
      ],
      "execution_count": null,
      "outputs": [
        {
          "output_type": "stream",
          "name": "stdout",
          "text": [
            "Starter number: 15\n",
            "15\n",
            "14\n",
            "13\n",
            "12\n",
            "11\n",
            "10\n",
            "9\n",
            "8\n",
            "7\n",
            "6\n",
            "5\n",
            "4\n",
            "3\n",
            "2\n",
            "1\n"
          ]
        }
      ]
    },
    {
      "cell_type": "code",
      "metadata": {
        "colab": {
          "base_uri": "https://localhost:8080/"
        },
        "id": "pESERrCIEY7u",
        "outputId": "bb7abf1f-178e-40ca-c887-7a807a9bc836"
      },
      "source": [
        "num1 = int(input(\"Starter number: \"))\n",
        "\n",
        "for i in range(num1, 0, -2):\n",
        "  print(i)"
      ],
      "execution_count": null,
      "outputs": [
        {
          "output_type": "stream",
          "name": "stdout",
          "text": [
            "Starter number: 12\n",
            "12\n",
            "10\n",
            "8\n",
            "6\n",
            "4\n",
            "2\n"
          ]
        }
      ]
    },
    {
      "cell_type": "code",
      "metadata": {
        "colab": {
          "base_uri": "https://localhost:8080/"
        },
        "id": "Y8dFyMwLEmjP",
        "outputId": "719f83cc-b18e-42d9-d01f-8d6c4175b78d"
      },
      "source": [
        "num1 = int(input(\"First number: \"))\n",
        "num2 = int(input(\"Second number: \"))\n",
        "addit = 0\n",
        "counter = 0\n",
        "\n",
        "for i in range(num1+1, num2):\n",
        "  addit += i\n",
        "  counter += 1\n",
        "  ortalama = int(addit/ counter)\n",
        "print(f\"İki sayı arasındaki sayıların ortalaması= {ortalama}\")"
      ],
      "execution_count": null,
      "outputs": [
        {
          "output_type": "stream",
          "name": "stdout",
          "text": [
            "First number: 5\n",
            "Second number: 11\n",
            "İki sayı arasındaki sayıların ortalaması= 8\n"
          ]
        }
      ]
    },
    {
      "cell_type": "code",
      "metadata": {
        "colab": {
          "base_uri": "https://localhost:8080/",
          "height": 595
        },
        "id": "9J6Q7Ag1HA7r",
        "outputId": "5860dd0c-5cad-4e04-ee22-80c90f77d729"
      },
      "source": [
        "character = input(\"Input a character: \")\n",
        "rep = int(input(\"How many times we repeat it?: \"))\n",
        "\n",
        "for i in range(1, rep+1):\n",
        "  print(character * i)"
      ],
      "execution_count": null,
      "outputs": [
        {
          "output_type": "error",
          "ename": "KeyboardInterrupt",
          "evalue": "ignored",
          "traceback": [
            "\u001b[0;31m---------------------------------------------------------------------------\u001b[0m",
            "\u001b[0;31mKeyboardInterrupt\u001b[0m                         Traceback (most recent call last)",
            "\u001b[0;32m/usr/local/lib/python3.7/dist-packages/ipykernel/kernelbase.py\u001b[0m in \u001b[0;36m_input_request\u001b[0;34m(self, prompt, ident, parent, password)\u001b[0m\n\u001b[1;32m    728\u001b[0m             \u001b[0;32mtry\u001b[0m\u001b[0;34m:\u001b[0m\u001b[0;34m\u001b[0m\u001b[0;34m\u001b[0m\u001b[0m\n\u001b[0;32m--> 729\u001b[0;31m                 \u001b[0mident\u001b[0m\u001b[0;34m,\u001b[0m \u001b[0mreply\u001b[0m \u001b[0;34m=\u001b[0m \u001b[0mself\u001b[0m\u001b[0;34m.\u001b[0m\u001b[0msession\u001b[0m\u001b[0;34m.\u001b[0m\u001b[0mrecv\u001b[0m\u001b[0;34m(\u001b[0m\u001b[0mself\u001b[0m\u001b[0;34m.\u001b[0m\u001b[0mstdin_socket\u001b[0m\u001b[0;34m,\u001b[0m \u001b[0;36m0\u001b[0m\u001b[0;34m)\u001b[0m\u001b[0;34m\u001b[0m\u001b[0;34m\u001b[0m\u001b[0m\n\u001b[0m\u001b[1;32m    730\u001b[0m             \u001b[0;32mexcept\u001b[0m \u001b[0mException\u001b[0m\u001b[0;34m:\u001b[0m\u001b[0;34m\u001b[0m\u001b[0;34m\u001b[0m\u001b[0m\n",
            "\u001b[0;32m/usr/local/lib/python3.7/dist-packages/jupyter_client/session.py\u001b[0m in \u001b[0;36mrecv\u001b[0;34m(self, socket, mode, content, copy)\u001b[0m\n\u001b[1;32m    802\u001b[0m         \u001b[0;32mtry\u001b[0m\u001b[0;34m:\u001b[0m\u001b[0;34m\u001b[0m\u001b[0;34m\u001b[0m\u001b[0m\n\u001b[0;32m--> 803\u001b[0;31m             \u001b[0mmsg_list\u001b[0m \u001b[0;34m=\u001b[0m \u001b[0msocket\u001b[0m\u001b[0;34m.\u001b[0m\u001b[0mrecv_multipart\u001b[0m\u001b[0;34m(\u001b[0m\u001b[0mmode\u001b[0m\u001b[0;34m,\u001b[0m \u001b[0mcopy\u001b[0m\u001b[0;34m=\u001b[0m\u001b[0mcopy\u001b[0m\u001b[0;34m)\u001b[0m\u001b[0;34m\u001b[0m\u001b[0;34m\u001b[0m\u001b[0m\n\u001b[0m\u001b[1;32m    804\u001b[0m         \u001b[0;32mexcept\u001b[0m \u001b[0mzmq\u001b[0m\u001b[0;34m.\u001b[0m\u001b[0mZMQError\u001b[0m \u001b[0;32mas\u001b[0m \u001b[0me\u001b[0m\u001b[0;34m:\u001b[0m\u001b[0;34m\u001b[0m\u001b[0;34m\u001b[0m\u001b[0m\n",
            "\u001b[0;32m/usr/local/lib/python3.7/dist-packages/zmq/sugar/socket.py\u001b[0m in \u001b[0;36mrecv_multipart\u001b[0;34m(self, flags, copy, track)\u001b[0m\n\u001b[1;32m    624\u001b[0m         \"\"\"\n\u001b[0;32m--> 625\u001b[0;31m         \u001b[0mparts\u001b[0m \u001b[0;34m=\u001b[0m \u001b[0;34m[\u001b[0m\u001b[0mself\u001b[0m\u001b[0;34m.\u001b[0m\u001b[0mrecv\u001b[0m\u001b[0;34m(\u001b[0m\u001b[0mflags\u001b[0m\u001b[0;34m,\u001b[0m \u001b[0mcopy\u001b[0m\u001b[0;34m=\u001b[0m\u001b[0mcopy\u001b[0m\u001b[0;34m,\u001b[0m \u001b[0mtrack\u001b[0m\u001b[0;34m=\u001b[0m\u001b[0mtrack\u001b[0m\u001b[0;34m)\u001b[0m\u001b[0;34m]\u001b[0m\u001b[0;34m\u001b[0m\u001b[0;34m\u001b[0m\u001b[0m\n\u001b[0m\u001b[1;32m    626\u001b[0m         \u001b[0;31m# have first part already, only loop while more to receive\u001b[0m\u001b[0;34m\u001b[0m\u001b[0;34m\u001b[0m\u001b[0;34m\u001b[0m\u001b[0m\n",
            "\u001b[0;32mzmq/backend/cython/socket.pyx\u001b[0m in \u001b[0;36mzmq.backend.cython.socket.Socket.recv\u001b[0;34m()\u001b[0m\n",
            "\u001b[0;32mzmq/backend/cython/socket.pyx\u001b[0m in \u001b[0;36mzmq.backend.cython.socket.Socket.recv\u001b[0;34m()\u001b[0m\n",
            "\u001b[0;32mzmq/backend/cython/socket.pyx\u001b[0m in \u001b[0;36mzmq.backend.cython.socket._recv_copy\u001b[0;34m()\u001b[0m\n",
            "\u001b[0;32m/usr/local/lib/python3.7/dist-packages/zmq/backend/cython/checkrc.pxd\u001b[0m in \u001b[0;36mzmq.backend.cython.checkrc._check_rc\u001b[0;34m()\u001b[0m\n",
            "\u001b[0;31mKeyboardInterrupt\u001b[0m: ",
            "\nDuring handling of the above exception, another exception occurred:\n",
            "\u001b[0;31mKeyboardInterrupt\u001b[0m                         Traceback (most recent call last)",
            "\u001b[0;32m<ipython-input-10-336956151770>\u001b[0m in \u001b[0;36m<module>\u001b[0;34m()\u001b[0m\n\u001b[0;32m----> 1\u001b[0;31m \u001b[0mcharacter\u001b[0m \u001b[0;34m=\u001b[0m \u001b[0minput\u001b[0m\u001b[0;34m(\u001b[0m\u001b[0;34m\"Input a character: \"\u001b[0m\u001b[0;34m)\u001b[0m\u001b[0;34m\u001b[0m\u001b[0;34m\u001b[0m\u001b[0m\n\u001b[0m\u001b[1;32m      2\u001b[0m \u001b[0mrep\u001b[0m \u001b[0;34m=\u001b[0m \u001b[0mint\u001b[0m\u001b[0;34m(\u001b[0m\u001b[0minput\u001b[0m\u001b[0;34m(\u001b[0m\u001b[0;34m\"How many times we repeat it?: \"\u001b[0m\u001b[0;34m)\u001b[0m\u001b[0;34m)\u001b[0m\u001b[0;34m\u001b[0m\u001b[0;34m\u001b[0m\u001b[0m\n\u001b[1;32m      3\u001b[0m \u001b[0;34m\u001b[0m\u001b[0m\n\u001b[1;32m      4\u001b[0m \u001b[0;32mfor\u001b[0m \u001b[0mi\u001b[0m \u001b[0;32min\u001b[0m \u001b[0mrange\u001b[0m\u001b[0;34m(\u001b[0m\u001b[0;36m1\u001b[0m\u001b[0;34m,\u001b[0m \u001b[0mrep\u001b[0m\u001b[0;34m+\u001b[0m\u001b[0;36m1\u001b[0m\u001b[0;34m)\u001b[0m\u001b[0;34m:\u001b[0m\u001b[0;34m\u001b[0m\u001b[0;34m\u001b[0m\u001b[0m\n\u001b[1;32m      5\u001b[0m   \u001b[0mprint\u001b[0m\u001b[0;34m(\u001b[0m\u001b[0mcharacter\u001b[0m \u001b[0;34m*\u001b[0m \u001b[0mi\u001b[0m\u001b[0;34m)\u001b[0m\u001b[0;34m\u001b[0m\u001b[0;34m\u001b[0m\u001b[0m\n",
            "\u001b[0;32m/usr/local/lib/python3.7/dist-packages/ipykernel/kernelbase.py\u001b[0m in \u001b[0;36mraw_input\u001b[0;34m(self, prompt)\u001b[0m\n\u001b[1;32m    702\u001b[0m             \u001b[0mself\u001b[0m\u001b[0;34m.\u001b[0m\u001b[0m_parent_ident\u001b[0m\u001b[0;34m,\u001b[0m\u001b[0;34m\u001b[0m\u001b[0;34m\u001b[0m\u001b[0m\n\u001b[1;32m    703\u001b[0m             \u001b[0mself\u001b[0m\u001b[0;34m.\u001b[0m\u001b[0m_parent_header\u001b[0m\u001b[0;34m,\u001b[0m\u001b[0;34m\u001b[0m\u001b[0;34m\u001b[0m\u001b[0m\n\u001b[0;32m--> 704\u001b[0;31m             \u001b[0mpassword\u001b[0m\u001b[0;34m=\u001b[0m\u001b[0;32mFalse\u001b[0m\u001b[0;34m,\u001b[0m\u001b[0;34m\u001b[0m\u001b[0;34m\u001b[0m\u001b[0m\n\u001b[0m\u001b[1;32m    705\u001b[0m         )\n\u001b[1;32m    706\u001b[0m \u001b[0;34m\u001b[0m\u001b[0m\n",
            "\u001b[0;32m/usr/local/lib/python3.7/dist-packages/ipykernel/kernelbase.py\u001b[0m in \u001b[0;36m_input_request\u001b[0;34m(self, prompt, ident, parent, password)\u001b[0m\n\u001b[1;32m    732\u001b[0m             \u001b[0;32mexcept\u001b[0m \u001b[0mKeyboardInterrupt\u001b[0m\u001b[0;34m:\u001b[0m\u001b[0;34m\u001b[0m\u001b[0;34m\u001b[0m\u001b[0m\n\u001b[1;32m    733\u001b[0m                 \u001b[0;31m# re-raise KeyboardInterrupt, to truncate traceback\u001b[0m\u001b[0;34m\u001b[0m\u001b[0;34m\u001b[0m\u001b[0;34m\u001b[0m\u001b[0m\n\u001b[0;32m--> 734\u001b[0;31m                 \u001b[0;32mraise\u001b[0m \u001b[0mKeyboardInterrupt\u001b[0m\u001b[0;34m\u001b[0m\u001b[0;34m\u001b[0m\u001b[0m\n\u001b[0m\u001b[1;32m    735\u001b[0m             \u001b[0;32melse\u001b[0m\u001b[0;34m:\u001b[0m\u001b[0;34m\u001b[0m\u001b[0;34m\u001b[0m\u001b[0m\n\u001b[1;32m    736\u001b[0m                 \u001b[0;32mbreak\u001b[0m\u001b[0;34m\u001b[0m\u001b[0;34m\u001b[0m\u001b[0m\n",
            "\u001b[0;31mKeyboardInterrupt\u001b[0m: "
          ]
        }
      ]
    },
    {
      "cell_type": "code",
      "metadata": {
        "colab": {
          "base_uri": "https://localhost:8080/"
        },
        "id": "rQ4TR6D9Ileo",
        "outputId": "4a5fb5ae-8138-4221-cb1b-92ae6ece32d6"
      },
      "source": [
        "character = input(\"Input a exression: \")\n",
        "counter = 0\n",
        "\n",
        "while counter < 10:\n",
        "  print(character)\n",
        "  counter += 1"
      ],
      "execution_count": null,
      "outputs": [
        {
          "output_type": "stream",
          "name": "stdout",
          "text": [
            "Input a exression: yine ben\n",
            "yine ben\n",
            "yine ben\n",
            "yine ben\n",
            "yine ben\n",
            "yine ben\n",
            "yine ben\n",
            "yine ben\n",
            "yine ben\n",
            "yine ben\n",
            "yine ben\n"
          ]
        }
      ]
    },
    {
      "cell_type": "code",
      "metadata": {
        "colab": {
          "base_uri": "https://localhost:8080/"
        },
        "id": "3hzVR3JWSJkX",
        "outputId": "3df7e19d-d612-4253-baa9-ae5fa6541268"
      },
      "source": [
        "num = int(input(\"Enter a number: \"))\n",
        "factorial = 1\n",
        "counter = 1\n",
        "\n",
        "while counter < (num+1):\n",
        "  factorial *= counter\n",
        "  counter += 1\n",
        "print(f\"{num}!= {factorial}\")"
      ],
      "execution_count": null,
      "outputs": [
        {
          "output_type": "stream",
          "name": "stdout",
          "text": [
            "Enter a number: 10\n",
            "10!= 3628800\n"
          ]
        }
      ]
    },
    {
      "cell_type": "code",
      "metadata": {
        "colab": {
          "base_uri": "https://localhost:8080/"
        },
        "id": "wDoIO28VTW0z",
        "outputId": "c4e3f286-a1c7-4f20-bf76-6e5e6950c58f"
      },
      "source": [
        "counter = 0\n",
        "\n",
        "while counter <= 100:\n",
        "  if counter % 5 == 0:\n",
        "    print(counter)\n",
        "  counter += 1"
      ],
      "execution_count": null,
      "outputs": [
        {
          "output_type": "stream",
          "name": "stdout",
          "text": [
            "0\n",
            "5\n",
            "10\n",
            "15\n",
            "20\n",
            "25\n",
            "30\n",
            "35\n",
            "40\n",
            "45\n",
            "50\n",
            "55\n",
            "60\n",
            "65\n",
            "70\n",
            "75\n",
            "80\n",
            "85\n",
            "90\n",
            "95\n",
            "100\n"
          ]
        }
      ]
    },
    {
      "cell_type": "code",
      "metadata": {
        "colab": {
          "base_uri": "https://localhost:8080/"
        },
        "id": "1FI20sJRUjl6",
        "outputId": "d50530d7-32a0-4ec7-fc65-e43693ebc264"
      },
      "source": [
        "counter = 0\n",
        "\n",
        "while counter <= 100:\n",
        "  counter += 5\n",
        "  print(counter)"
      ],
      "execution_count": null,
      "outputs": [
        {
          "output_type": "stream",
          "name": "stdout",
          "text": [
            "5\n",
            "10\n",
            "15\n",
            "20\n",
            "25\n",
            "30\n",
            "35\n",
            "40\n",
            "45\n",
            "50\n",
            "55\n",
            "60\n",
            "65\n",
            "70\n",
            "75\n",
            "80\n",
            "85\n",
            "90\n",
            "95\n",
            "100\n",
            "105\n"
          ]
        }
      ]
    },
    {
      "cell_type": "code",
      "metadata": {
        "colab": {
          "base_uri": "https://localhost:8080/"
        },
        "id": "G-_dYXATUwIg",
        "outputId": "9c527c98-5b9c-4269-aa51-134853d2b7d4"
      },
      "source": [
        "add = 0\n",
        "number = 1\n",
        "\n",
        "while number != 0:\n",
        "  number = int(input(\"Enter a number-0 exit: \"))\n",
        "  add += num\n",
        "  \n",
        "print(add)"
      ],
      "execution_count": null,
      "outputs": [
        {
          "output_type": "stream",
          "name": "stdout",
          "text": [
            "Enter a number-0 exit: 2\n",
            "Enter a number-0 exit: 3\n",
            "Enter a number-0 exit: 4\n",
            "Enter a number-0 exit: 1\n",
            "Enter a number-0 exit: 0\n",
            "10\n"
          ]
        }
      ]
    },
    {
      "cell_type": "code",
      "metadata": {
        "id": "GNzskbfVrUaw"
      },
      "source": [
        "password = \"\"\n",
        "\n",
        "while len(password) != 4:\n",
        "  password = input(\"Enter a password with 4 digit: \")\n",
        "  if len(password) == 4:\n",
        "    print(f\"Şifreniz: {password}\")"
      ],
      "execution_count": null,
      "outputs": []
    },
    {
      "cell_type": "code",
      "metadata": {
        "colab": {
          "base_uri": "https://localhost:8080/"
        },
        "id": "M61DDHw2vDfq",
        "outputId": "7247f140-5777-46f6-e054-d531cd5da730"
      },
      "source": [
        "a = 0\n",
        "\n",
        "while a <= 100:\n",
        "  if a % 5 == 0:\n",
        "    print(a)\n",
        "    a += 1\n",
        "    continue\n",
        "  else:\n",
        "    a += 1"
      ],
      "execution_count": null,
      "outputs": [
        {
          "output_type": "stream",
          "name": "stdout",
          "text": [
            "0\n",
            "5\n",
            "10\n",
            "15\n",
            "20\n",
            "25\n",
            "30\n",
            "35\n",
            "40\n",
            "45\n",
            "50\n",
            "55\n",
            "60\n",
            "65\n",
            "70\n",
            "75\n",
            "80\n",
            "85\n",
            "90\n",
            "95\n",
            "100\n"
          ]
        }
      ]
    }
  ]
}