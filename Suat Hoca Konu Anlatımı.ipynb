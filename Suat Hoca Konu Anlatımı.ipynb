{
  "nbformat": 4,
  "nbformat_minor": 0,
  "metadata": {
    "colab": {
      "name": "WS_2.ipynb",
      "provenance": [],
      "collapsed_sections": [],
      "include_colab_link": true
    },
    "kernelspec": {
      "name": "python3",
      "display_name": "Python 3"
    },
    "language_info": {
      "name": "python"
    }
  },
  "cells": [
    {
      "cell_type": "markdown",
      "metadata": {
        "id": "view-in-github",
        "colab_type": "text"
      },
      "source": [
        "<a href=\"https://colab.research.google.com/github/MuratYarali/Python-Assignment/blob/main/Suat%20Hoca%20Konu%20Anlat%C4%B1m%C4%B1.ipynb\" target=\"_parent\"><img src=\"https://colab.research.google.com/assets/colab-badge.svg\" alt=\"Open In Colab\"/></a>"
      ]
    },
    {
      "cell_type": "markdown",
      "metadata": {
        "id": "QlBsRwyPxMmg"
      },
      "source": [
        "**split()**"
      ]
    },
    {
      "cell_type": "code",
      "metadata": {
        "id": "gj-K91BAxCe0",
        "colab": {
          "base_uri": "https://localhost:8080/"
        },
        "outputId": "7c2b358d-c3f5-41ec-c1e9-596f05c36e5d"
      },
      "source": [
        "text = \"Hello dear friends\"\n",
        "print(text.split(\",\"))"
      ],
      "execution_count": null,
      "outputs": [
        {
          "output_type": "stream",
          "name": "stdout",
          "text": [
            "['Hello dear friends']\n"
          ]
        }
      ]
    },
    {
      "cell_type": "code",
      "metadata": {
        "id": "D50mmh7mxV_l"
      },
      "source": [
        "text = \"For testing parameter: Londra, Prag, Canada, Beyrut, Isfahan, Phuket, Tokyo\"\n",
        "\n"
      ],
      "execution_count": null,
      "outputs": []
    },
    {
      "cell_type": "code",
      "metadata": {
        "id": "NcjUHWpvxZf0",
        "colab": {
          "base_uri": "https://localhost:8080/"
        },
        "outputId": "bc6ff4ea-0067-49d7-fe35-197235c41afc"
      },
      "source": [
        "countries = \"Türkiye, Singapur, Malezya, Lübnan, Kanada, Portekiz, Japonya\"\n",
        "\n",
        "country = countries.split(\" \", 4)\n",
        "print(*country, sep=\"\\n\")\n",
        "print(countries)"
      ],
      "execution_count": null,
      "outputs": [
        {
          "output_type": "stream",
          "name": "stdout",
          "text": [
            "Türkiye,\n",
            "Singapur,\n",
            "Malezya,\n",
            "Lübnan,\n",
            "Kanada, Portekiz, Japonya\n",
            "Türkiye, Singapur, Malezya, Lübnan, Kanada, Portekiz, Japonya\n"
          ]
        }
      ]
    },
    {
      "cell_type": "code",
      "metadata": {
        "colab": {
          "base_uri": "https://localhost:8080/"
        },
        "id": "tCIOw-QjQZhF",
        "outputId": "82760ca2-c3e2-4bfb-c076-7f14e3ad0c40"
      },
      "source": [
        "text = \"ahmet\"\n",
        "\n",
        "print(text)\n",
        "print(*text)\n",
        "print(*text, sep=\"\\n\")"
      ],
      "execution_count": null,
      "outputs": [
        {
          "output_type": "stream",
          "name": "stdout",
          "text": [
            "ahmet\n",
            "a h m e t\n",
            "a\n",
            "h\n",
            "m\n",
            "e\n",
            "t\n"
          ]
        }
      ]
    },
    {
      "cell_type": "code",
      "metadata": {
        "id": "8_uj-hFD63pt",
        "colab": {
          "base_uri": "https://localhost:8080/"
        },
        "outputId": "a0d66c7b-0f41-41b6-da21-b1964c0a36c3"
      },
      "source": [
        "# cümledeki en kısa kelime nedir ve kaç karakterden oluşuyor.\n",
        "text = \" soru cozumuyle kodlama becerim gelisiyor.\"\n",
        "\n",
        "print((min(text.split(), key=len)), len(min(text.split(), key=len)))\n",
        "\n",
        "a = text.split()\n",
        "en_kısa = min(a, key=len)\n",
        "\n",
        "print(\"En kısa kelime {1} ve {0} karakterden oluşmaktadır\".format(len(en_kısa), en_kısa))"
      ],
      "execution_count": null,
      "outputs": [
        {
          "output_type": "stream",
          "name": "stdout",
          "text": [
            "soru 4\n",
            "En kısa kelime soru ve 4 karakterden oluşmaktadır\n"
          ]
        }
      ]
    },
    {
      "cell_type": "markdown",
      "metadata": {
        "id": "_8SwX2LFxizj"
      },
      "source": [
        "**map()**"
      ]
    },
    {
      "cell_type": "code",
      "metadata": {
        "id": "mEpDElb2xdnK",
        "colab": {
          "base_uri": "https://localhost:8080/"
        },
        "outputId": "204da6e2-355a-4035-ae0b-c1bc81c86d2d"
      },
      "source": [
        "list1 = [1,2,3,4,5]\n",
        "\n",
        "list2 = list(map(float, list1))\n",
        "print(list2)"
      ],
      "execution_count": null,
      "outputs": [
        {
          "output_type": "stream",
          "name": "stdout",
          "text": [
            "[1.0, 2.0, 3.0, 4.0, 5.0]\n"
          ]
        }
      ]
    },
    {
      "cell_type": "code",
      "metadata": {
        "id": "Pqy7GDToxrTw",
        "colab": {
          "base_uri": "https://localhost:8080/"
        },
        "outputId": "88867f45-df47-4679-f2d5-1b5601ce603d"
      },
      "source": [
        "def discount(x):\n",
        "  return x*.8\n",
        "\n",
        "price = [15.2, 17, 10, 22.9, 16.5, 7.7, 11]\n",
        "\n",
        "new_price = list(map(discount, price))\n",
        "\n",
        "print(new_price)"
      ],
      "execution_count": 4,
      "outputs": [
        {
          "output_type": "stream",
          "name": "stdout",
          "text": [
            "[12.16, 13.600000000000001, 8.0, 18.32, 13.200000000000001, 6.16, 8.8]\n"
          ]
        }
      ]
    },
    {
      "cell_type": "markdown",
      "metadata": {
        "id": "mrkiXchaxxrY"
      },
      "source": [
        "**zip()**\n"
      ]
    },
    {
      "cell_type": "code",
      "metadata": {
        "id": "tu70MTT5x1UY"
      },
      "source": [
        "list1 = [1,2,3,4,5]\n",
        "list2 = [\"a\",\"b\",\"c\",\"d\",\"e\"]"
      ],
      "execution_count": null,
      "outputs": []
    },
    {
      "cell_type": "code",
      "metadata": {
        "id": "yTOzZAvJx9_H"
      },
      "source": [
        "list1 = [1,2,3]\n",
        "list2 = [\"a\",\"b\",\"c\",\"d\",\"e\"]"
      ],
      "execution_count": null,
      "outputs": []
    },
    {
      "cell_type": "markdown",
      "metadata": {
        "id": "xF5bxcFhyJ1p"
      },
      "source": [
        "Q-1) Verilen listeden {id:name} olacak şekilde dict oluşturunuz.\n",
        "\n",
        "*   test_list = [\"Ali\", 1, \"Veli\", 2, \"Osman\", 3, \"Ahmet\", 4] \n",
        "*   output : {1: 'Ali', 2: 'Veli', 3: 'Osman', 4: 'Ahmet'}\n",
        "\n"
      ]
    },
    {
      "cell_type": "code",
      "metadata": {
        "id": "DVaYG2DmyAog"
      },
      "source": [
        ""
      ],
      "execution_count": null,
      "outputs": []
    },
    {
      "cell_type": "markdown",
      "metadata": {
        "id": "1UPB43Qay35F"
      },
      "source": [
        "Q-2) Kullanıcıdan alınan 5 sayı içerisinden en büyük 2. sayıyı bulan kodu yazınız.\n",
        "\n",
        "*   map() ve split() kullanalım.\n"
      ]
    },
    {
      "cell_type": "code",
      "metadata": {
        "id": "xc9NPumvzQzi",
        "colab": {
          "base_uri": "https://localhost:8080/"
        },
        "outputId": "f142bcc3-2f52-4ce4-8e83-aadb105ab741"
      },
      "source": [
        "numbers = list(map(int, input(\"Enter 5 number= \").split()))\n",
        "\n",
        "sec_max = sorted(set(numbers))[-2]\n",
        "print(numbers)\n",
        "print(sec_max)"
      ],
      "execution_count": null,
      "outputs": [
        {
          "output_type": "stream",
          "name": "stdout",
          "text": [
            "Enter 5 number= -3 -3 -5 4 2\n",
            "[-3, -3, -5, 4, 2]\n",
            "2\n"
          ]
        }
      ]
    },
    {
      "cell_type": "markdown",
      "metadata": {
        "id": "LvhXFuYBzWZ3"
      },
      "source": [
        "Q-3) Kullanıcıdan alınan değer kadar numbers listesinin elemanlarını sağa kaydıran kodu yazınız.\n",
        "\n",
        "*   numbers = [2,3,5,7,11,44,34] \n",
        "\n",
        "\n"
      ]
    },
    {
      "cell_type": "code",
      "metadata": {
        "id": "sikUp9lqzkTX"
      },
      "source": [
        ""
      ],
      "execution_count": null,
      "outputs": []
    },
    {
      "cell_type": "markdown",
      "metadata": {
        "id": "IJQFhpuwzm3n"
      },
      "source": [
        "Q-4) Kullanıcıdan alınan sayının negatif veya pozitif olduğunu bulan kodu yazınız."
      ]
    },
    {
      "cell_type": "code",
      "metadata": {
        "id": "7cUgc7Qrz5gz"
      },
      "source": [
        ""
      ],
      "execution_count": null,
      "outputs": []
    },
    {
      "cell_type": "markdown",
      "metadata": {
        "id": "pK8i0pf0z6ir"
      },
      "source": [
        "Q-5) Kullanıcıdan 2 değer ve işlemi alıp sonucunu döndüren basit bir hesap makinesi programı yazınız.\n",
        "\n",
        "*   \"1\" Toplama\n",
        "*   \"2\" Çıkarma\n",
        "*   \"3\" Çarpma\n",
        "*   \"4\" Bölme\n",
        "\n",
        "\n",
        "\n"
      ]
    },
    {
      "cell_type": "code",
      "metadata": {
        "id": "vCLkwiqr0SXh"
      },
      "source": [
        ""
      ],
      "execution_count": null,
      "outputs": []
    },
    {
      "cell_type": "markdown",
      "metadata": {
        "id": "FXi2yqRR0T8C"
      },
      "source": [
        "Q-6) E-mail ve parola bilgileri ile giriş kontrolü yapan programı yazınız.\n",
        "\n",
        "\n",
        "*   email = 'D999@clarusway.com'\n",
        "*   pswrd = 'd999'\n",
        "\n"
      ]
    },
    {
      "cell_type": "code",
      "metadata": {
        "id": "7aGnPRJ40sVD"
      },
      "source": [
        ""
      ],
      "execution_count": null,
      "outputs": []
    },
    {
      "cell_type": "markdown",
      "metadata": {
        "id": "6-UqVTtw0veT"
      },
      "source": [
        "Q-7) Kullanıcıdan alınan boy ve kilo değerlerine göre beden kitle indeksini hesaplayın ve şu kurallara göre ekrana şu yazıları yazdırın.\n",
        "     \n",
        "     BKİ 18.5'un altındaysa -------> Zayıf\n",
        "     \n",
        "     BKİ 18.5 ile 25 arasındaysa ------> Normal\n",
        "     \n",
        "     BKİ 25 ile 30 arasındaysa --------> Fazla Kilolu\n",
        "     \n",
        "     BKİ 30'un üstündeyse -------------> Obez\n",
        "\n",
        "Not: Beden Kitle İndeksi: Kilo / Boy(m) *  Boy(m)\n"
      ]
    },
    {
      "cell_type": "code",
      "metadata": {
        "id": "tR3VnGA-1DvQ"
      },
      "source": [
        ""
      ],
      "execution_count": null,
      "outputs": []
    },
    {
      "cell_type": "markdown",
      "metadata": {
        "id": "LYo_NNEy1Iya"
      },
      "source": [
        "Q-8) Kullanıcıdan alınan 3 sayıdan en büyüğünü bulan kodu yazınız."
      ]
    },
    {
      "cell_type": "code",
      "metadata": {
        "id": "Sog7RHFx1czS"
      },
      "source": [
        ""
      ],
      "execution_count": null,
      "outputs": []
    }
  ]
}